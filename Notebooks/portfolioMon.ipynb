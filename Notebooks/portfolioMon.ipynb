{
 "cells": [
  {
   "cell_type": "code",
   "execution_count": 2,
   "metadata": {},
   "outputs": [],
   "source": [
    "import ipywidgets as widgets\n",
    "import yfinance as yf\n",
    "import pandas as pd\n",
    "import numpy\n",
    "import math\n",
    "import altair as alt\n",
    "import time\n",
    "import json\n",
    "import datetime\n",
    "import random\n",
    "import defs\n",
    "import time\n",
    "import datetime\n",
    "\n",
    "#missing\n",
    "#fees\n",
    "#dividends\n",
    "#stocksplits - what happens in  a stock split(are old shares amount converted to new share amount)\n"
   ]
  },
  {
   "cell_type": "markdown",
   "metadata": {},
   "source": [
    "## File Load\n",
    "\n",
    "- Load File\n",
    "- Get All Distinct Stokcs\n",
    "- Get All Distinct Currencies"
   ]
  },
  {
   "cell_type": "code",
   "execution_count": 3,
   "metadata": {},
   "outputs": [
    {
     "data": {
      "application/vnd.jupyter.widget-view+json": {
       "model_id": "577304864447477ba1b40dea70d3b4de",
       "version_major": 2,
       "version_minor": 0
      },
      "text/plain": [
       "Text(value='Finance_Positions.csv', description='Transaction File Location:', placeholder='Transactions.csv')"
      ]
     },
     "metadata": {},
     "output_type": "display_data"
    }
   ],
   "source": [
    "\n",
    "filewidget = widgets.Text(\n",
    "    value='Finance_Positions.csv',#''\n",
    "    placeholder='Transactions.csv',\n",
    "    description='Transaction File Location:',\n",
    "    #disabled=False\n",
    ")\n",
    "filewidget"
   ]
  },
  {
   "cell_type": "code",
   "execution_count": 4,
   "metadata": {},
   "outputs": [],
   "source": [
    "filename=filewidget.value"
   ]
  },
  {
   "cell_type": "code",
   "execution_count": 5,
   "metadata": {},
   "outputs": [
    {
     "name": "stdout",
     "output_type": "stream",
     "text": [
      "Importing Transactions\n",
      "Transactions Loaded\n"
     ]
    }
   ],
   "source": [
    "#filename = 'Finance_Positions.csv'\n",
    "\n",
    "\n",
    "f = open(filename, \"r\")\n",
    "\n",
    "\n",
    "count_comma=0\n",
    "count_semicolon=0\n",
    "for i in range(2):\n",
    "    line = f.readline()\n",
    "    count_comma=count_comma+line.count(\",\")\n",
    "    count_semicolon=count_semicolon+line.count(\";\")\n",
    "\n",
    "\n",
    "f.close()\n",
    "\n",
    "print(\"Importing Transactions\")\n",
    "\n",
    "sep=\",\"\n",
    "if(count_semicolon>count_comma):\n",
    "    sep=\";\"\n",
    "\n",
    "#format must be dDD-MM-YYYY\n",
    "transactions = pd.read_csv(filename,sep=sep,dayfirst=True)\n",
    "\n",
    "#get the most earliest date\n",
    "df=pd.DataFrame()\n",
    "df['Date']=pd.to_datetime(transactions['When'],dayfirst=True)\n",
    "startdate=min(df['Date']).strftime(\"%Y-%m-%d\")\n",
    "\n",
    "#get all use tickers distinct\n",
    "stonks=pd.unique(transactions['Ticker']).tolist()\n",
    "\n",
    "#get all distinct currencies\n",
    "stonk_currencies=pd.unique(transactions['Currency']).tolist()\n",
    "\n",
    "print(\"Transactions Loaded\")\n",
    "\n",
    "#transactions\n",
    "\n"
   ]
  },
  {
   "cell_type": "code",
   "execution_count": 6,
   "metadata": {},
   "outputs": [
    {
     "name": "stdout",
     "output_type": "stream",
     "text": [
      "[*********************100%***********************]  42 of 42 completed\n",
      "Stock Values Loaded\n"
     ]
    }
   ],
   "source": [
    "#donwload all data\n",
    "data = yf.download(tickers=stonks,start=startdate,interval='1d',group_by='column',prepos=False,threads=True)\n",
    "\n",
    "#counts entries without values\n",
    "empty_stocks  =data['Close'].columns[data['Close'].count()==0].to_list()\n",
    "\n",
    "if len(empty_stocks)>0:\n",
    "    payload= {}\n",
    "    payload['stocks'] = empty_stocks\n",
    "    print(\"WARNING: The Following Tickers are Invalid: \"+\" , \".join(empty_stocks)+\" , tickers must be set accordingly to  https://finance.yahoo.com/\",payload,status='ERROR')\n",
    "\n",
    "print(\"Stock Values Loaded\")\n"
   ]
  },
  {
   "cell_type": "code",
   "execution_count": 7,
   "metadata": {},
   "outputs": [
    {
     "name": "stdout",
     "output_type": "stream",
     "text": [
      "{'EUR', 'GBP'}\n",
      "[*********************100%***********************]  2 of 2 completed\n"
     ]
    }
   ],
   "source": [
    "\n",
    "#analyse which pairs to take and downlaod\n",
    "allcurrencies=[]\n",
    "\n",
    "for ticker in stonk_currencies:\n",
    "    allcurrencies.append(ticker)\n",
    "    \n",
    "\n",
    "curs = set(allcurrencies).difference(('USD',))\n",
    "print(curs)\n",
    "\n",
    "curpairs=[]\n",
    "\n",
    "#always converts to dollars\n",
    "#targetcurrency='USD'\n",
    "\n",
    "#generate strings\n",
    "for i in curs:\n",
    "    curpairs.append(i+\"USD=X\")\n",
    "\n",
    "\n",
    "#download required pairs\n",
    "historicalcurrency = yf.download(tickers=curpairs,start=startdate,interval='1d',group_by='column',prepos=False,threads=True)\n",
    "\n",
    "\n",
    "#targetpair = yf.download(tickers=targetcurrency+\"=X\",start=startdate,interval='1d',group_by='column',prepos=False,threads=True)\n",
    "\n",
    "\n",
    "#Sets to  target currency\n",
    "historicalcurrency=historicalcurrency['Close']#.mul(targetpair['Close'],axis=0)"
   ]
  },
  {
   "cell_type": "code",
   "execution_count": 15,
   "metadata": {},
   "outputs": [
    {
     "data": {
      "application/vnd.jupyter.widget-view+json": {
       "model_id": "9b2953443012402ca301f5d361ec916c",
       "version_major": 2,
       "version_minor": 0
      },
      "text/plain": [
       "IntProgress(value=0, bar_style='info', description='Loading:', max=41)"
      ]
     },
     "metadata": {},
     "output_type": "display_data"
    }
   ],
   "source": [
    "#For every stock,get current format\n",
    "curtime=datetime.datetime.now().isoformat()\n",
    "\n",
    "#this may take a while\n",
    "\n",
    "progress = widgets.IntProgress(\n",
    "    value=0,\n",
    "    min=0,\n",
    "    max=len(stonks)-1,\n",
    "    description='Fetching:',\n",
    "    bar_style='info',\n",
    "    #style={'bar_color': 'maroon'},\n",
    "    orientation='horizontal'\n",
    ")\n",
    "\n",
    "display(progress)\n",
    "\n",
    "stonks_info={}\n",
    "dividends={}\n",
    "\n",
    "inf=0\n",
    "counter=0;\n",
    "#serial\n",
    "for i in stonks:\n",
    "    try:\n",
    "\n",
    "        inf=ticker=  yf.Ticker(i).get_info()#defs.FetchTickerInfo(i)\n",
    "        \n",
    "        progress.value=counter\n",
    "       \n",
    "        \n",
    "        dividends[i]= yf.Ticker(i).dividends\n",
    "        \n",
    "        counter=counter+1;\n",
    "    except Exception as e:\n",
    "        print(e)\n",
    "    stonks_info[i]=inf\n",
    "\n",
    "    #print(i)\n",
    "    \n"
   ]
  },
  {
   "cell_type": "code",
   "execution_count": null,
   "metadata": {},
   "outputs": [],
   "source": [
    "stonkdict={}\n",
    "\n",
    "\n",
    "\n",
    "#initialize final datafraem\n",
    "superdf =pd.DataFrame()\n",
    "superdf.empty\n",
    "\n",
    "i=0\n",
    "\n",
    "\n",
    "for stonk in stonks:  \n",
    "    \n",
    "    print(stonk)\n",
    "    \n",
    "    #get transactions from csv\n",
    "    singlestock_transactions = transactions[transactions['Ticker']==stonk]\n",
    "\n",
    "    #use index to create df\n",
    "    index = data.index\n",
    "    df=pd.DataFrame(index=data.index)\n",
    "\n",
    "    \n",
    "    #extract price\n",
    "    df['Price']= data['Close'][stonk]\n",
    "    #initialize amount\n",
    "    df[\"SharesOwned\"]=0\n",
    "    #initialize total value\n",
    "    df['TotalValue']=0  \n",
    "    \n",
    "    \n",
    "\n",
    "    df['InvestedValue']=0   \n",
    "\n",
    "    #set ticker\n",
    "    df[\"Ticker\"]=stonk\n",
    "    \n",
    "    #fetch currency\n",
    "    df[\"Currency\"]=stonks_info[stonk]['currency']\n",
    "    if(stonk=='NVDA'):\n",
    "        print(df.index.max())\n",
    "\n",
    "\n",
    "    for idx, row in singlestock_transactions.iterrows():\n",
    "\n",
    "        multiplier = 1\n",
    "        if(row['What']=='buy'):\n",
    "            multiplier=1\n",
    "        elif(row['What']=='sell'):\n",
    "            multiplier=-1\n",
    "        else:\n",
    "            raise Exception(\"Transaction \\\"row['What']\\\" is not recognized\")\n",
    "\n",
    "        #print(row['Amount'])\n",
    "\n",
    "\n",
    "        #CHECK IF IT GETS APPLIED TO STARTING ARRAY, FIND AWAY TO DO THIS AT THE START\n",
    "        #CONVERTING INTO AMOUNT MAKES it be adimensional, and doenst matter what currency it was bought in\n",
    "        try:\n",
    "            if(math.isnan(float(row['Amount']))):\n",
    "                row['Amount']=row['Total Cost']/row['Cost per Share']\n",
    "        except:\n",
    "            row['Amount']=row['Total Cost']/row['Cost per Share']\n",
    "\n",
    "\n",
    "        #df[row['When']:][stonk+\" Amount\"] = df[row['When']:][stonk+\" Amount\"]=row['Amount']\n",
    "\n",
    "        #df[row['When']:,stonk+\" Amount\"] = df[row['When']:,stonk+\" Amount\"]+row['Amount']\n",
    "\n",
    "        #print(float(row['Amount']))\n",
    "        \n",
    "        wheny = pd.to_datetime(row['When'], dayfirst=True)\n",
    "        \n",
    "        if pd.to_datetime(\"now\")< wheny:\n",
    "            print(row['When'],\"<- This date is in the future, and will not be considere\")\n",
    "            continue\n",
    "\n",
    "\n",
    "        \n",
    "        #print(float(row['Amount'])*multiplier)\n",
    "        #set amount to the amount\n",
    "        #display(row['When'])\n",
    "        #display(df.loc[row['When']:])\n",
    "        if(stonk=='NVDA'):\n",
    "            print(df.index.max())\n",
    "        \n",
    "        \n",
    "        \n",
    "        \n",
    "        #change the amount from whtn to forward,  multiplier determinex if its a  buy of a sell\n",
    "        df.loc[wheny:,'SharesOwned'] = df.loc[wheny:,'SharesOwned'] + (float(row['Amount'])*multiplier)\n",
    "\n",
    "        #money put in\n",
    "        df.loc[wheny:,'InvestedValue'] = df.loc[wheny:,'InvestedValue'] + (float(row['Total Cost'])*multiplier)\n",
    "        \n",
    "\n",
    "    i=i+1\n",
    "        \n",
    "    df.loc[:,'TotalValue']= df[\"Price\"]*df['SharesOwned']\n",
    "    df.loc[:,'EarnedValue']= df.loc[:,'TotalValue']-df.loc[:,'InvestedValue']\n",
    "      \n",
    "        \n",
    "    #delete rows with no data\n",
    "    #\n",
    "    df.interpolate(inplace=True)\n",
    "    df.dropna(inplace=True,how='any')\n",
    "    \n",
    "    \n",
    "    #display(df)\n",
    "    #display(df)\n",
    "    \n",
    "    \n",
    "    \n",
    "    superdf= superdf.append(df)\n",
    "    #display(df)\n",
    "    #display(superdf)\n",
    "    #print(\"YIKES\")\n",
    "\n",
    "    \n",
    "\n",
    "\n"
   ]
  },
  {
   "cell_type": "code",
   "execution_count": null,
   "metadata": {},
   "outputs": [],
   "source": [
    "#Check if something is wrong\n",
    "#for every stock\n",
    "for stonk in stonks:  \n",
    "    a = superdf.loc[superdf['Ticker']==stonk]\n",
    "\n",
    "\n",
    "    if a.loc[a.index.min(),'EarnedValue']>0:\n",
    "        print('Verify if Stock % has the correct date')\n",
    "\n",
    "\n"
   ]
  },
  {
   "cell_type": "code",
   "execution_count": null,
   "metadata": {},
   "outputs": [],
   "source": [
    "#reset indexes\n",
    "superdf=superdf.reset_index()\n"
   ]
  },
  {
   "cell_type": "code",
   "execution_count": null,
   "metadata": {},
   "outputs": [],
   "source": [
    "\n",
    "#calculate dividends\n",
    "superdf['Dividends']=0\n",
    "\n",
    "#for every stock\n",
    "for stonk in stonks:  \n",
    "    #print(stonk)\n",
    "    #stonk=\"PEP\"\n",
    "    divs=dividends[stonk]\n",
    "\n",
    "      \n",
    "\n",
    "    #fetches the start date,crop dividends before that\n",
    "    divs = divs[startdate:]\n",
    "\n",
    "\n",
    "    for date, divi in divs.iteritems():\n",
    "\n",
    "        \n",
    "        #shares owned when dividends ocurred\n",
    "        #filter  by stonk and date. fetch values[0]\n",
    "        sharesOwned = superdf.loc[(superdf['Ticker']==stonk) & (superdf['Date']==date),'SharesOwned'].values[0]\n",
    "\n",
    "        #debug\n",
    "        if( stonk=='NVDA'):\n",
    "            print(date, divi)\n",
    "            print(sharesOwned)\n",
    "        #print(date,row)        \n",
    "        \n",
    "        #if the dividend date is greater than the date,\n",
    "        superdf.loc[ (superdf['Date']>=date) & (superdf['Ticker']==stonk),'Dividends']=superdf.loc[ (superdf['Date']>=date) & (superdf['Ticker']==stonk),'Dividends']  + (float(divi)*sharesOwned)\n",
    "        #display(superdf.loc[superdf[\"Ticker\"]==stonk,'Dividends'].loc[date:])\n",
    "    "
   ]
  },
  {
   "cell_type": "code",
   "execution_count": null,
   "metadata": {},
   "outputs": [],
   "source": [
    "\n",
    "#needs index to work apparently\n",
    "superdf = superdf.reset_index(drop=True).set_index(['Date'])"
   ]
  },
  {
   "cell_type": "code",
   "execution_count": null,
   "metadata": {},
   "outputs": [],
   "source": [
    "hm=superdf\n",
    "hm\n",
    "\n",
    "#perform left join on Date field, \n",
    "\n",
    "superdf = pd.merge(\n",
    "    hm,\n",
    "    historicalcurrency,\n",
    "    how=\"left\",\n",
    "    left_on='Date',\n",
    "    right_on='Date',\n",
    "    left_index=False,\n",
    "    right_index=False,\n",
    "    suffixes=(\"\", \"\"),\n",
    "    copy=True,\n",
    "    indicator=False,\n",
    "    validate=None,\n",
    ")\n",
    "\n",
    "#for every different currencu\n",
    "for (cur,curp) in zip(curs,curpairs):\n",
    "    #print(cur,curp)\n",
    "    #interpolate missing data for currency\n",
    "    superdf[curp]=superdf[curp].interpolate(method='pad')\n",
    "    \n",
    "    #convert Everything to USD\n",
    "    superdf.loc[superdf['Currency']==cur,'TotalValue'] = superdf[superdf['Currency']==cur]['TotalValue']*superdf[superdf['Currency']==cur][curp]\n",
    "    superdf.loc[superdf['Currency']==cur,'InvestedValue'] = superdf[superdf['Currency']==cur]['InvestedValue']*superdf[superdf['Currency']==cur][curp]\n",
    "    superdf.loc[superdf['Currency']==cur,'EarnedValue'] = superdf[superdf['Currency']==cur]['EarnedValue']*superdf[superdf['Currency']==cur][curp]\n",
    "    superdf.loc[superdf['Currency']==cur,'Dividends'] = superdf[superdf['Currency']==cur]['Dividends']*superdf[superdf['Currency']==cur][curp]\n",
    "   \n"
   ]
  },
  {
   "cell_type": "code",
   "execution_count": null,
   "metadata": {},
   "outputs": [],
   "source": [
    "superdf"
   ]
  },
  {
   "cell_type": "code",
   "execution_count": null,
   "metadata": {},
   "outputs": [],
   "source": [
    "#superdf[superdf['Ticker']=='XOM']\n",
    "dfforaltair = superdf.reset_index()\n",
    "dfforaltair.interpolate(inplace=True)\n",
    "\n",
    "alt.data_transformers.disable_max_rows()\n",
    "alt.Chart(dfforaltair).mark_area().encode(\n",
    "    x='Date',\n",
    "    y='InvestedValue',\n",
    "    #color='Ticker:N',\n",
    "    color=alt.Color('Ticker:N', legend=alt.Legend(columns=1,symbolLimit=300)),\n",
    ").properties(\n",
    "    width=1280,\n",
    "    height=720\n",
    ")"
   ]
  },
  {
   "cell_type": "code",
   "execution_count": null,
   "metadata": {},
   "outputs": [],
   "source": [
    "superdf.to_csv('PorfolioHistory.csv')"
   ]
  },
  {
   "cell_type": "code",
   "execution_count": null,
   "metadata": {},
   "outputs": [],
   "source": [
    "## Drill down\n",
    "\n",
    "superdf[superdf['Ticker']=='NVDA']"
   ]
  },
  {
   "cell_type": "code",
   "execution_count": null,
   "metadata": {},
   "outputs": [],
   "source": [
    "superdf"
   ]
  },
  {
   "cell_type": "code",
   "execution_count": null,
   "metadata": {},
   "outputs": [],
   "source": [
    "dividends['NVDA']"
   ]
  },
  {
   "cell_type": "code",
   "execution_count": null,
   "metadata": {},
   "outputs": [],
   "source": [
    "superdf[superdf['Ticker']=='PEP']"
   ]
  },
  {
   "cell_type": "code",
   "execution_count": null,
   "metadata": {},
   "outputs": [],
   "source": [
    "superdf"
   ]
  },
  {
   "cell_type": "code",
   "execution_count": null,
   "metadata": {},
   "outputs": [],
   "source": [
    "\n",
    "#for every stock\n",
    "for stonk in stonks:  \n",
    "    print(stonk)\n",
    "    #stonk=\"PEP\"\n",
    "    divs=dividends[stonk]\n",
    "\n",
    "      \n",
    "\n",
    "    #fetches the start date,crop dividends before that\n",
    "    divs = divs[startdate:]\n",
    "\n",
    "\n",
    "    for date, divi in divs.iteritems():\n",
    "\n",
    "        \n",
    "        #shares owned when dividends ocurred\n",
    "        #filter  by stonk and date. fetch values[0]\n",
    "        sharesOwned = superdf.loc[(superdf['Ticker']==stonk) & (superdf['Date']==date),'SharesOwned'].values[0]\n",
    "\n",
    "        #debug\n",
    "        if( stonk=='NVDA'):\n",
    "            print(date, divi)\n",
    "            print(sharesOwned)\n",
    "        #print(date,row)        \n",
    "        \n",
    "        #if the dividend date is greater than the date,\n",
    "        superdf.loc[ (superdf['Date']>=date) & (superdf['Ticker']==stonk),'Dividends']=superdf.loc[ (superdf['Date']>=date) & (superdf['Ticker']==stonk),'Dividends']  + (float(divi)*sharesOwned)\n",
    "        #display(superdf.loc[superdf[\"Ticker\"]==stonk,'Dividends'].loc[date:])\n",
    "    "
   ]
  },
  {
   "cell_type": "code",
   "execution_count": null,
   "metadata": {},
   "outputs": [],
   "source": [
    "stok = 'PEP'\n",
    "\n",
    "min(df.loc[]['Date']).strftime(\"%Y-%m-%d\")"
   ]
  },
  {
   "cell_type": "code",
   "execution_count": null,
   "metadata": {},
   "outputs": [],
   "source": []
  },
  {
   "cell_type": "code",
   "execution_count": null,
   "metadata": {},
   "outputs": [],
   "source": []
  }
 ],
 "metadata": {
  "kernelspec": {
   "display_name": "Python 3.7.6 64-bit",
   "language": "python",
   "name": "python37664bitd7e8ed98d0fa46a1bc894a209907a008"
  },
  "language_info": {
   "codemirror_mode": {
    "name": "ipython",
    "version": 3
   },
   "file_extension": ".py",
   "mimetype": "text/x-python",
   "name": "python",
   "nbconvert_exporter": "python",
   "pygments_lexer": "ipython3",
   "version": "3.7.6"
  }
 },
 "nbformat": 4,
 "nbformat_minor": 4
}
