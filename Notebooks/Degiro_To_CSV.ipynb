{
 "cells": [
  {
   "cell_type": "code",
   "execution_count": 2,
   "metadata": {},
   "outputs": [],
   "source": [
    "import pandas as pd"
   ]
  },
  {
   "cell_type": "code",
   "execution_count": 14,
   "metadata": {},
   "outputs": [],
   "source": [
    "degiro = pd.read_csv('Transactions.csv')"
   ]
  },
  {
   "cell_type": "code",
   "execution_count": 53,
   "metadata": {},
   "outputs": [],
   "source": [
    "df=pd.DataFrame()\n",
    "\n",
    "df['Name']= degiro.iloc[:,2]\n",
    "df['Amount']= degiro.iloc[:,6]\n",
    "df['Cost per Share']= degiro.iloc[:,7]\n",
    "df['Total Cost']=degiro.iloc[:,9]#9 ou 11?\n",
    "df['Action']=''\n",
    "df['Ticker']=''\n",
    "df['Currency']=degiro.iloc[:,12]\n",
    "\n",
    "\n",
    "df.loc[df['Total Cost']<0,'Action']='buy'\n",
    "df.loc[df['Total Cost']>0,'Action']='sell'\n",
    "df['When']=degiro.iloc[:,0]\n",
    "df['When']=df['When'].str.replace('-','/')\n",
    "\n",
    "columns = ['Name',\n",
    " 'Ticker',\n",
    " 'Action',\n",
    " 'Total Cost',\n",
    " 'Amount',\n",
    " 'When',\n",
    " 'Cost per Share',\n",
    " 'Currency']\n",
    "\n",
    "df = df[columns]"
   ]
  }
 ],
 "metadata": {
  "kernelspec": {
   "display_name": "Python 3.7.6 64-bit",
   "language": "python",
   "name": "python37664bitd7e8ed98d0fa46a1bc894a209907a008"
  },
  "language_info": {
   "codemirror_mode": {
    "name": "ipython",
    "version": 3
   },
   "file_extension": ".py",
   "mimetype": "text/x-python",
   "name": "python",
   "nbconvert_exporter": "python",
   "pygments_lexer": "ipython3",
   "version": "3.7.6"
  }
 },
 "nbformat": 4,
 "nbformat_minor": 4
}
