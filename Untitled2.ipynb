{
 "cells": [
  {
   "cell_type": "code",
   "execution_count": 2,
   "metadata": {},
   "outputs": [],
   "source": [
    "var hello  = 2 + 2\n",
    "\n"
   ]
  },
  {
   "cell_type": "code",
   "execution_count": 6,
   "metadata": {},
   "outputs": [
    {
     "ename": "SyntaxError",
     "evalue": "Unexpected identifier",
     "output_type": "error",
     "traceback": [
      "evalmachine.<anonymous>:1",
      "!npm install node-fetch",
      "     ^^^^^^^",
      "",
      "SyntaxError: Unexpected identifier",
      "    at new Script (vm.js:88:7)",
      "    at createScript (vm.js:263:10)",
      "    at Object.runInThisContext (vm.js:311:10)",
      "    at run ([eval]:1054:15)",
      "    at onRunRequest ([eval]:888:18)",
      "    at onMessage ([eval]:848:13)",
      "    at process.emit (events.js:310:20)",
      "    at emit (internal/child_process.js:876:12)",
      "    at processTicksAndRejections (internal/process/task_queues.js:85:21)"
     ]
    }
   ],
   "source": [
    "!npm install node-fetch"
   ]
  },
  {
   "cell_type": "code",
   "execution_count": 5,
   "metadata": {},
   "outputs": [
    {
     "ename": "Error",
     "evalue": "Cannot find module 'node-fetch'\nRequire stack:\n- D:\\Projects\\StockMon\\[eval]",
     "output_type": "error",
     "traceback": [
      "internal/modules/cjs/loader.js:960",
      "  throw err;",
      "  ^",
      "",
      "Error: Cannot find module 'node-fetch'",
      "Require stack:",
      "- D:\\Projects\\StockMon\\[eval]",
      "    at Function.Module._resolveFilename (internal/modules/cjs/loader.js:957:15)",
      "    at Function.Module._load (internal/modules/cjs/loader.js:840:27)",
      "    at Module.require (internal/modules/cjs/loader.js:1019:19)",
      "    at require (internal/modules/cjs/helpers.js:77:18)",
      "    at evalmachine.<anonymous>:1:15",
      "    at Script.runInThisContext (vm.js:120:20)",
      "    at Object.runInThisContext (vm.js:311:38)",
      "    at run ([eval]:1054:15)",
      "    at onRunRequest ([eval]:888:18)",
      "    at onMessage ([eval]:848:13)"
     ]
    }
   ],
   "source": []
  }
 ],
 "metadata": {
  "kernelspec": {
   "display_name": "Javascript (Node.js)",
   "language": "javascript",
   "name": "javascript"
  },
  "language_info": {
   "file_extension": ".js",
   "mimetype": "application/javascript",
   "name": "javascript",
   "version": "12.16.3"
  }
 },
 "nbformat": 4,
 "nbformat_minor": 4
}
