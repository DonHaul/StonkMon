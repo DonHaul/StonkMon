{
 "metadata": {
  "language_info": {
   "codemirror_mode": {
    "name": "ipython",
    "version": 3
   },
   "file_extension": ".py",
   "mimetype": "text/x-python",
   "name": "python",
   "nbconvert_exporter": "python",
   "pygments_lexer": "ipython3",
   "version": "3.7.6"
  },
  "orig_nbformat": 2,
  "kernelspec": {
   "name": "python376jvsc74a57bd0f1fac6ece3d2b630429e7678b85d11bdb50a9efa8d9b10cb8f7eb195568657ca",
   "display_name": "Python 3.7.6 64-bit"
  }
 },
 "nbformat": 4,
 "nbformat_minor": 2,
 "cells": [
  {
   "cell_type": "code",
   "execution_count": 1,
   "metadata": {
    "tags": [
     "outputPrepend"
    ]
   },
   "outputs": [
    {
     "output_type": "stream",
     "name": "stdout",
     "text": [
      "blicPath=\\'https://s.yimg.com/uc/finance/dd-site/js/\\';</script></body></html>'\n"
     ]
    }
   ],
   "source": [
    "import yfinance as yf\n",
    "import pandas as pd\n",
    "import numpy\n",
    "import math\n",
    "import altair as alt\n",
    "import time\n",
    "import json\n",
    "import datetime\n",
    "import sqlite3\n",
    "import multiprocessing  \n",
    "import random\n",
    "from multiprocessing import Pool\n",
    "import defs\n",
    "import time\n",
    "import datetime\n",
    "import requests\n",
    "from random_proxies import random_proxy\n",
    "\n",
    "proxy = random_proxy(use_cache=False)\n",
    "\n",
    "randomproxy = random_proxy(use_cache=False,protocol='https')\n",
    "randomproxy = 'https://'+randomproxy\n",
    "randomproxy\n",
    "\n",
    "theurl = 'https://finance.yahoo.com/quote/t'\n",
    "\n",
    "headers = {'https':randomproxy}\n",
    "petition = requests.get(theurl,headers=headers,timeout=10)\n",
    "print(petition.status_code)\n",
    "print(petition.content)"
   ]
  },
  {
   "cell_type": "code",
   "execution_count": 2,
   "metadata": {},
   "outputs": [],
   "source": [
    "from bs4 import BeautifulSoup\n",
    "soup = BeautifulSoup(petition.content, 'html.parser')"
   ]
  },
  {
   "cell_type": "code",
   "execution_count": 3,
   "metadata": {},
   "outputs": [
    {
     "output_type": "error",
     "ename": "NameError",
     "evalue": "name 'sad' is not defined",
     "traceback": [
      "\u001b[1;31m---------------------------------------------------------------------------\u001b[0m",
      "\u001b[1;31mNameError\u001b[0m                                 Traceback (most recent call last)",
      "\u001b[1;32m<ipython-input-3-2f26407d8e5a>\u001b[0m in \u001b[0;36m<module>\u001b[1;34m\u001b[0m\n\u001b[1;32m----> 1\u001b[1;33m \u001b[0msad\u001b[0m\u001b[1;33m\u001b[0m\u001b[1;33m\u001b[0m\u001b[0m\n\u001b[0m",
      "\u001b[1;31mNameError\u001b[0m: name 'sad' is not defined"
     ]
    }
   ],
   "source": [
    "sad"
   ]
  },
  {
   "cell_type": "code",
   "execution_count": null,
   "metadata": {
    "tags": []
   },
   "outputs": [],
   "source": [
    "jsonstr = \"\"\n",
    "\n",
    "for line in petition.content.decode('UTF-8').split('\\n'):\n",
    "    if \"root.App.main\" in line:\n",
    "        jsonstr=line\n"
   ]
  },
  {
   "source": [
    "import re\n",
    "\n",
    "txt = \"The rain in Spain\"\n",
    "x = re.search(\"\\\"currency\\\":\\\"(.*?)\\\"\", petition.content.decode('UTF-8'))[0]"
   ],
   "cell_type": "code",
   "metadata": {
    "tags": []
   },
   "execution_count": 5,
   "outputs": []
  },
  {
   "cell_type": "code",
   "execution_count": 6,
   "metadata": {},
   "outputs": [
    {
     "output_type": "execute_result",
     "data": {
      "text/plain": [
       "'USD'"
      ]
     },
     "metadata": {},
     "execution_count": 6
    }
   ],
   "source": [
    "re.findall(\"\\\"currency\\\":\\\"(.*?)\\\"\", jsonstr)[0]"
   ]
  },
  {
   "cell_type": "code",
   "execution_count": null,
   "metadata": {},
   "outputs": [],
   "source": []
  }
 ]
}