{
 "cells": [
  {
   "cell_type": "code",
   "execution_count": 1,
   "metadata": {},
   "outputs": [
    {
     "name": "stdout",
     "output_type": "stream",
     "text": [
      "The factors of 41038642 are [20519321, 53, 387157, 191, 2027]\n",
      "The factors of 35986836 are [8996709, 2998903, 19, 157837]\n",
      "The factors of 12709637 are [12709637, 311, 40867]\n",
      "The factors of 40887077 are [40887077, 7, 5841011, 11, 531001, 23, 23087]\n",
      "The factors of 22588809 are [22588809, 7529603]\n",
      "The factors of 13308196 are [3327049, 11, 302459]\n",
      "The factors of 21790276 are [5447569, 67, 81307]\n",
      "The factors of 49192804 are [12298201, 547, 22483]\n",
      "The factors of 46974915 are [46974915, 15658305, 5219435, 5, 1043887, 13, 80299, 59, 1361]\n",
      "The factors of 9662223 are [9662223, 3220741, 173, 18617]\n",
      "The factors of 46901243 are [46901243, 613, 76511]\n",
      "The factors of 34312411 are [34312411, 7, 4901773]\n",
      "The factors of 38871004 are [9717751, 97, 100183]\n",
      "The factors of 25294774 are [12647387]\n",
      "The factors of 7268325 are [7268325, 2422775, 5, 484555, 5, 96911]\n",
      "The factors of 31800803 are [31800803, 193, 164771]\n",
      "The factors of 47183223 are [47183223, 15727741, 613, 25657]\n",
      "The factors of 39945376 are [1248293, 17, 73429, 97, 757]\n",
      "The factors of 4179773 are [4179773, 13, 321521, 17, 18913]\n",
      "The factors of 48622869 are [48622869, 16207623, 5402541, 1800847, 433, 4159]\n"
     ]
    }
   ],
   "source": [
    "import multiprocessing  \n",
    "import random\n",
    "from multiprocessing import Pool\n",
    "import defs\n",
    "\n",
    "\n",
    "\n",
    "if __name__ == '__main__':\n",
    "    pool = Pool()\n",
    "    to_factor = [ random.randint(100000, 50000000) for i in range(20)]\n",
    "    results = pool.map(defs.prime_factor, to_factor)\n",
    "    for value, factors in zip(to_factor, results):\n",
    "        print(\"The factors of {} are {}\".format(value, factors))"
   ]
  },
  {
   "cell_type": "code",
   "execution_count": null,
   "metadata": {},
   "outputs": [],
   "source": []
  }
 ],
 "metadata": {
  "kernelspec": {
   "display_name": "Python 3",
   "language": "python",
   "name": "python3"
  },
  "language_info": {
   "codemirror_mode": {
    "name": "ipython",
    "version": 3
   },
   "file_extension": ".py",
   "mimetype": "text/x-python",
   "name": "python",
   "nbconvert_exporter": "python",
   "pygments_lexer": "ipython3",
   "version": "3.7.6"
  }
 },
 "nbformat": 4,
 "nbformat_minor": 4
}
